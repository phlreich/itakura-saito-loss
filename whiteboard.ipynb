{
 "cells": [
  {
   "cell_type": "code",
   "execution_count": 128,
   "metadata": {},
   "outputs": [
    {
     "data": {
      "image/png": "[encoded data removed]",
      "text/plain": [
       "<Figure size 432x288 with 1 Axes>"
      ]
     },
     "metadata": {
      "needs_background": "light"
     },
     "output_type": "display_data"
    }
   ],
   "source": [
    "import matplotlib\n",
    "import matplotlib.pyplot as plt\n",
    "\n",
    "from turtle import color\n",
    "from ray.tune import ExperimentAnalysis\n",
    "from matplotlib.ticker import MaxNLocator\n",
    "\n",
    "import pandas as pd\n",
    "from torch import tensor\n",
    "def plot(show_ECE=0, specific=\"\", experiment_name=\"a1\", save = False, save_path = \"plot.svg\"):\n",
    "    analysis = ExperimentAnalysis(\"./results/\"+experiment_name)\n",
    "    ax = None\n",
    "    dfs = analysis.trial_dataframes\n",
    "    for k, d in list(dfs.items())[:]:\n",
    "        if specific != \"\":\n",
    "            if not specific in k: continue\n",
    "        if \"v01\" in k:\n",
    "            if show_ECE == 1:\n",
    "                ax = d.ece.plot(ax=ax, legend=False, color=\"red\")\n",
    "            elif show_ECE == 0:\n",
    "                ax = d.accuracy.plot(ax=ax, legend=False, color=\"red\")\n",
    "            else:\n",
    "                ax = pd.Series([float(eval(i)) for i in d.example_loss]).plot(ax=ax, legend=False, color=\"red\")\n",
    "        else:\n",
    "            if show_ECE == 1:\n",
    "                ax = d.ece.plot(ax=ax, legend=False, color=\"blue\")\n",
    "            elif show_ECE == 0:\n",
    "                ax = d.accuracy.plot(ax=ax, legend=False, color=\"blue\")\n",
    "            else:\n",
    "                ax = pd.Series([float(eval(i)) for i in d.example_loss]).plot(ax=ax, legend=False, color=\"blue\")\n",
    "    ax.set_xlabel(\"Epochs\")\n",
    "    if show_ECE == 1:\n",
    "        ax.set_ylabel(\"ECE\")\n",
    "    elif show_ECE == 0:\n",
    "        ax.set_ylabel(\"Accuracy\")\n",
    "    else:\n",
    "        ax.set_ylabel(\"Example Loss\")\n",
    "    # set x axis to be integers\n",
    "    ax.xaxis.set_major_locator(MaxNLocator(integer=True))\n",
    "\n",
    "    # set y-axis values to 2 decimal places\n",
    "    ax.yaxis.set_major_formatter('{x:.2f}')\n",
    "\n",
    "    if save:\n",
    "        if show_ECE == 1:\n",
    "            plt.savefig(save_path.replace(\".svg\", \"_ece.svg\"))\n",
    "        elif show_ECE == 0:\n",
    "            plt.savefig(save_path.replace(\".svg\", \"_acc.svg\"))\n",
    "        plt.savefig(save_path, format=\"svg\")\n",
    "\n",
    "\n",
    "plot(\n",
    "    show_ECE=0, # 1 for ECE, 0 for accuracy, 2 for loss_example\n",
    "    specific=\"c70ef_00006\",\n",
    "    experiment_name=\"a1\",\n",
    "    save=True,\n",
    "    #save_path = \"accuracy_plot.svg\"\n",
    ")"
   ]
  },
  {
   "cell_type": "code",
   "execution_count": 119,
   "metadata": {},
   "outputs": [
    {
     "data": {
      "text/html": [
       "<div>\n",
       "<style scoped>\n",
       "    .dataframe tbody tr th:only-of-type {\n",
       "        vertical-align: middle;\n",
       "    }\n",
       "\n",
       "    .dataframe tbody tr th {\n",
       "        vertical-align: top;\n",
       "    }\n",
       "\n",
       "    .dataframe thead th {\n",
       "        text-align: right;\n",
       "    }\n",
       "</style>\n",
       "<table border=\"1\" class=\"dataframe\">\n",
       "  <thead>\n",
       "    <tr style=\"text-align: right;\">\n",
       "      <th></th>\n",
       "      <th>accuracy</th>\n",
       "      <th>ece</th>\n",
       "      <th>trial_id</th>\n",
       "      <th>iterations_since_restore</th>\n",
       "      <th>config/eps</th>\n",
       "      <th>config/lr</th>\n",
       "    </tr>\n",
       "  </thead>\n",
       "  <tbody>\n",
       "    <tr>\n",
       "      <th>0</th>\n",
       "      <td>0.2543</td>\n",
       "      <td>0.145766</td>\n",
       "      <td>c70ef_00000</td>\n",
       "      <td>100</td>\n",
       "      <td>0.00001</td>\n",
       "      <td>0.001</td>\n",
       "    </tr>\n",
       "    <tr>\n",
       "      <th>1</th>\n",
       "      <td>0.6085</td>\n",
       "      <td>0.059505</td>\n",
       "      <td>c70ef_00001</td>\n",
       "      <td>100</td>\n",
       "      <td>0.00010</td>\n",
       "      <td>0.001</td>\n",
       "    </tr>\n",
       "    <tr>\n",
       "      <th>2</th>\n",
       "      <td>0.7510</td>\n",
       "      <td>0.069356</td>\n",
       "      <td>c70ef_00002</td>\n",
       "      <td>100</td>\n",
       "      <td>0.00100</td>\n",
       "      <td>0.001</td>\n",
       "    </tr>\n",
       "    <tr>\n",
       "      <th>3</th>\n",
       "      <td>0.8244</td>\n",
       "      <td>0.095671</td>\n",
       "      <td>c70ef_00003</td>\n",
       "      <td>100</td>\n",
       "      <td>0.01000</td>\n",
       "      <td>0.001</td>\n",
       "    </tr>\n",
       "    <tr>\n",
       "      <th>4</th>\n",
       "      <td>0.8432</td>\n",
       "      <td>0.114922</td>\n",
       "      <td>c70ef_00004</td>\n",
       "      <td>100</td>\n",
       "      <td>0.05000</td>\n",
       "      <td>0.001</td>\n",
       "    </tr>\n",
       "    <tr>\n",
       "      <th>5</th>\n",
       "      <td>0.8148</td>\n",
       "      <td>0.149422</td>\n",
       "      <td>c70ef_00005</td>\n",
       "      <td>100</td>\n",
       "      <td>0.10000</td>\n",
       "      <td>0.001</td>\n",
       "    </tr>\n",
       "    <tr>\n",
       "      <th>6</th>\n",
       "      <td>0.2242</td>\n",
       "      <td>0.775648</td>\n",
       "      <td>c70ef_00006</td>\n",
       "      <td>100</td>\n",
       "      <td>0.20000</td>\n",
       "      <td>0.001</td>\n",
       "    </tr>\n",
       "    <tr>\n",
       "      <th>7</th>\n",
       "      <td>0.1439</td>\n",
       "      <td>0.856002</td>\n",
       "      <td>c70ef_00007</td>\n",
       "      <td>100</td>\n",
       "      <td>0.25000</td>\n",
       "      <td>0.001</td>\n",
       "    </tr>\n",
       "  </tbody>\n",
       "</table>\n",
       "</div>"
      ],
      "text/plain": [
       "   accuracy       ece     trial_id  iterations_since_restore  config/eps  \\\n",
       "0    0.2543  0.145766  c70ef_00000                       100     0.00001   \n",
       "1    0.6085  0.059505  c70ef_00001                       100     0.00010   \n",
       "2    0.7510  0.069356  c70ef_00002                       100     0.00100   \n",
       "3    0.8244  0.095671  c70ef_00003                       100     0.01000   \n",
       "4    0.8432  0.114922  c70ef_00004                       100     0.05000   \n",
       "5    0.8148  0.149422  c70ef_00005                       100     0.10000   \n",
       "6    0.2242  0.775648  c70ef_00006                       100     0.20000   \n",
       "7    0.1439  0.856002  c70ef_00007                       100     0.25000   \n",
       "\n",
       "   config/lr  \n",
       "0      0.001  \n",
       "1      0.001  \n",
       "2      0.001  \n",
       "3      0.001  \n",
       "4      0.001  \n",
       "5      0.001  \n",
       "6      0.001  \n",
       "7      0.001  "
      ]
     },
     "execution_count": 119,
     "metadata": {},
     "output_type": "execute_result"
    }
   ],
   "source": [
    "experiment = \"a1\"\n",
    "\n",
    "import torch\n",
    "import seaborn as sns\n",
    "import pandas as pd\n",
    "import numpy as np\n",
    "import matplotlib\n",
    "import matplotlib.pyplot as plt\n",
    "from ray.tune import ExperimentAnalysis\n",
    "dfs = ExperimentAnalysis(\"./results/\" + experiment).dataframe()\n",
    "dfs = dfs.drop(columns=['timesteps_total','episodes_total', 'experiment_id','date',\n",
    "'timestamp', 'pid', 'hostname', 'node_ip','time_since_restore', 'timesteps_since_restore', \n",
    "'warmup_time', 'logdir', 'example_loss', 'training_iteration', 'done', 'config/batch_size',\n",
    "'time_this_iter_s','freqs','time_total_s', 'config/criterion', \n",
    "\n",
    "'config/model'])#'config/eps', 'config/lr', 'config/lr','iterations_since_restore','trial_id',\n",
    "\n",
    "#dfs.sort_values(\"accuracy\", ascending=False)\n",
    "#dfs.sort_values(\"config/eps\", ascending=False).head(10)\n",
    "dfs"
   ]
  },
  {
   "cell_type": "code",
   "execution_count": 114,
   "metadata": {},
   "outputs": [
    {
     "data": {
      "image/png": "[encoded data removed]",
      "text/plain": [
       "<Figure size 432x288 with 1 Axes>"
      ]
     },
     "metadata": {
      "needs_background": "light"
     },
     "output_type": "display_data"
    }
   ],
   "source": [
    "import torch\n",
    "from reliabilityplot import plot_reliability\n",
    "from ray.tune import ExperimentAnalysis\n",
    "dfs = ExperimentAnalysis(\"./results/a1\").dataframe()\n",
    "nan = float(\"nan\")\n",
    "freqs = eval(\"torch.\"+(dfs[\"freqs\"][4]))\n",
    "plot_reliability(freqs)\n"
   ]
  },
  {
   "cell_type": "code",
   "execution_count": 47,
   "metadata": {},
   "outputs": [
    {
     "data": {
      "image/png": "[encoded data removed]",
      "text/plain": [
       "<Figure size 432x288 with 1 Axes>"
      ]
     },
     "metadata": {
      "needs_background": "light"
     },
     "output_type": "display_data"
    }
   ],
   "source": [
    "from ray.tune import ExperimentAnalysis\n",
    "import torch\n",
    "from reliabilityplot import plot_reliability\n",
    "dfs = ExperimentAnalysis(\"./results/exp10\").dataframe()\n",
    "nan = float(\"nan\")\n",
    "freqs = eval(\"torch.\"+(dfs[\"freqs\"][dfs[dfs[\"trial_id\"]==\"01e8f_00003\"].index[0]]))\n",
    "plot_reliability(freqs)"
   ]
  },
  {
   "cell_type": "code",
   "execution_count": 22,
   "metadata": {},
   "outputs": [
    {
     "name": "stdout",
     "output_type": "stream",
     "text": [
      "Files already downloaded and verified\n",
      "(0.1229, 0.0010937657207250595, tensor([   nan,    nan,    nan,    nan,    nan,    nan, 0.5000, 0.5000, 0.0000,\n",
      "        0.1429], device='cuda:0'))\n",
      "(0.1387, 0.0008614913676865399, tensor([   nan,    nan,    nan,    nan,    nan,    nan, 0.3333, 0.0000, 0.0000,\n",
      "        0.0000], device='cuda:0'))\n",
      "(0.1339, 0.0006053505348972976, tensor([nan, nan, nan, nan, nan, nan, nan, 0., 0., 0.], device='cuda:0'))\n",
      "(0.1481, 0.00026007028645835817, tensor([   nan,    nan,    nan,    nan,    nan,    nan,    nan,    nan, 0.0000,\n",
      "        0.3333], device='cuda:0'))\n"
     ]
    }
   ],
   "source": [
    "import library\n",
    "import tune\n",
    "\n",
    "import importlib\n",
    "importlib.reload(library)\n",
    "importlib.reload(tune)\n",
    "import torch\n",
    "import torch.nn as nn\n",
    "import torchvision.models as models\n",
    "\n",
    "device = \"cuda\"\n",
    "model = models.resnet18(num_classes=10).to(device)\n",
    "train_loader, test_loader = library.load_data(250)\n",
    "for i in range(4):\n",
    "    tune.train(model, torch.optim.Adam(model.parameters(), 0.0038), library.itakura_saito_loss_v01, train_loader, device, eps=0.7)\n",
    "    print(tune.test(model, test_loader, device, ece=True, n_bins=10))"
   ]
  },
  {
   "cell_type": "code",
   "execution_count": 37,
   "metadata": {},
   "outputs": [
    {
     "name": "stdout",
     "output_type": "stream",
     "text": [
      "tensor(8518.3926, device='cuda:0') 10000\n"
     ]
    },
    {
     "data": {
      "text/plain": [
       "(0.1481,\n",
       " 0.8518392443656921,\n",
       " tensor([   nan,    nan,    nan,    nan,    nan,    nan,    nan, 0.0000, 0.3333,\n",
       "         0.1481], device='cuda:0'))"
      ]
     },
     "execution_count": 37,
     "metadata": {},
     "output_type": "execute_result"
    }
   ],
   "source": [
    "importlib.reload(library)\n",
    "importlib.reload(tune)\n",
    "tune.test(model, test_loader, device, ece=True, n_bins=10)"
   ]
  },
  {
   "cell_type": "code",
   "execution_count": null,
   "metadata": {},
   "outputs": [],
   "source": [
    "import importlib\n",
    "importlib.reload(library)\n",
    "from reliabilityplot import plot_reliability\n",
    "acc, ece, freqs = library.test(model, test_loader, device, ece=True)\n",
    "print(acc, ece)\n",
    "plot_reliability(freqs)"
   ]
  },
  {
   "cell_type": "code",
   "execution_count": null,
   "metadata": {},
   "outputs": [],
   "source": [
    "import library\n",
    "import tune\n",
    "\n",
    "import torch\n",
    "import torch.nn as nn\n",
    "import torchvision.models as models\n",
    "\n",
    "device = \"cuda\"\n",
    "model2 = models.resnet152(num_classes=10).to(device)\n",
    "train_loader, test_loader = library.load_data(250)\n",
    "for i in range(20):\n",
    "    tune.train(model2, torch.optim.Adam(model2.parameters(), 0.001), nn.CrossEntropyLoss(), train_loader, device)"
   ]
  },
  {
   "cell_type": "code",
   "execution_count": null,
   "metadata": {},
   "outputs": [],
   "source": [
    "import importlib\n",
    "importlib.reload(library)\n",
    "acc, ece, freqs = library.test(model2, test_loader, device, ece=True)\n",
    "print(acc, ece)\n",
    "plot_reliability(freqs)"
   ]
  },
  {
   "cell_type": "code",
   "execution_count": 32,
   "metadata": {},
   "outputs": [
    {
     "data": {
      "text/plain": [
       "{'lr': 0.0038073857694810144,\n",
       " 'criterion': <function library.itakura_saito_loss_v01(logits, labels, eps=0.0001)>,\n",
       " 'model': <function torchvision.models.resnet.resnet152(*, weights: Optional[torchvision.models.resnet.ResNet152_Weights] = None, progress: bool = True, **kwargs: Any) -> torchvision.models.resnet.ResNet>,\n",
       " 'batch_size': 250,\n",
       " 'eps': 0.06685570567086357}"
      ]
     },
     "execution_count": 32,
     "metadata": {},
     "output_type": "execute_result"
    }
   ],
   "source": [
    "from ray.tune import ExperimentAnalysis\n",
    "dfs = ExperimentAnalysis(\"./results/experiment2\")\n",
    "dfs.get_best_config(mode=\"max\", metric=\"accuracy\")"
   ]
  },
  {
   "cell_type": "code",
   "execution_count": 30,
   "metadata": {},
   "outputs": [
    {
     "data": {
      "text/plain": [
       "[0.04381271600723262,\n",
       " 0.08186247218400236,\n",
       " 0.09336148370057341,\n",
       " 0.06629177518188949,\n",
       " 0.06963098719716068,\n",
       " 0.03689850661903615,\n",
       " 0.0,\n",
       " 0.0]"
      ]
     },
     "execution_count": 30,
     "metadata": {},
     "output_type": "execute_result"
    }
   ],
   "source": [
    "dfs = ExperimentAnalysis(\"./results/eps_experiment2\").dataframe()\n",
    "dfs = dfs.drop(columns=['timesteps_total','episodes_total', 'experiment_id','date', 'timestamp', 'pid', \n",
    "'hostname', 'node_ip','time_since_restore', 'timesteps_since_restore', \n",
    "'warmup_time', 'logdir', 'example_loss', 'config/eps', 'config/lr', 'training_iteration', 'done', 'config/batch_size', 'time_this_iter_s'])\n",
    "dfs = ExperimentAnalysis(\"./results/eps_experiment2\").trial_dataframes\n",
    "\n",
    "eces = [d[\"ece\"] for k, d in dfs.items()]\n",
    "[eces[k][-20:].mean() for k in range(0, len(eces))]\n"
   ]
  }
 ],
 "metadata": {
  "kernelspec": {
   "display_name": "Python 3.10.4 ('py310')",
   "language": "python",
   "name": "python3"
  },
  "language_info": {
   "codemirror_mode": {
    "name": "ipython",
    "version": 3
   },
   "file_extension": ".py",
   "mimetype": "text/x-python",
   "name": "python",
   "nbconvert_exporter": "python",
   "pygments_lexer": "ipython3",
   "version": "3.10.4"
  },
  "orig_nbformat": 4,
  "vscode": {
   "interpreter": {
    "hash": "7284000700937c2b3b3c8b6dd236eebe2a26f5a7eee24e61707f37a5d4ef8e31"
   }
  }
 },
 "nbformat": 4,
 "nbformat_minor": 2
}
