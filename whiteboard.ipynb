{
 "cells": [
  {
   "cell_type": "code",
   "execution_count": null,
   "metadata": {},
   "outputs": [],
   "source": [
    "import matplotlib\n",
    "import matplotlib.pyplot as plt\n",
    "\n",
    "from turtle import color\n",
    "from ray.tune import ExperimentAnalysis\n",
    "from matplotlib.ticker import MaxNLocator\n",
    "\n",
    "import pandas as pd\n",
    "from torch import tensor\n",
    "def plot(show_ECE=0, specific=\"\", experiment_name=\"a1\", save = False, save_path = \"plot.svg\", inds = None, lim = None):\n",
    "    analysis = ExperimentAnalysis(\"./results/\"+experiment_name)\n",
    "    ax = None\n",
    "    dfs = analysis.trial_dataframes\n",
    "    for k, d in list(dfs.items())[:]:\n",
    "        if specific != \"\":\n",
    "            if not specific in k: continue\n",
    "        if \"v01\" in k:\n",
    "            if show_ECE == 1:\n",
    "                if lim:\n",
    "                    ax = d.ece[:lim].plot(ax=ax, legend=False, color=\"red\")\n",
    "                else:\n",
    "                    ax = d.ece.plot(ax=ax, legend=False, color=\"red\")\n",
    "            elif show_ECE == 0:\n",
    "                if lim:\n",
    "                    ax = d.accuracy[:lim].plot(ax=ax, legend=False, color=\"red\")\n",
    "                else:\n",
    "                    ax = d.accuracy.plot(ax=ax, legend=False, color=\"red\")\n",
    "            else:\n",
    "                if lim:\n",
    "                    ax = pd.Series([float(eval(i)) for i in d.example_loss])[:lim].plot(ax=ax, legend=False, color=\"red\")\n",
    "                else:\n",
    "                    ax = pd.Series([float(eval(i)) for i in d.example_loss]).plot(ax=ax, legend=False, color=\"red\")\n",
    "        else:\n",
    "            if show_ECE == 1:\n",
    "                if lim:\n",
    "                    ax = d.ece[:lim].plot(ax=ax, legend=False, color=\"blue\")\n",
    "                else:\n",
    "                    ax = d.ece.plot(ax=ax, legend=False, color=\"blue\")\n",
    "            elif show_ECE == 0:\n",
    "                if lim:\n",
    "                    ax = d.accuracy[:lim].plot(ax=ax, legend=False, color=\"blue\")\n",
    "                else:\n",
    "                    ax = d.accuracy.plot(ax=ax, legend=False, color=\"blue\")\n",
    "            else:\n",
    "                if lim:\n",
    "                    ax = pd.Series([float(eval(i)) for i in d.example_loss])[:lim].plot(ax=ax, legend=False, color=\"blue\")\n",
    "                else:\n",
    "                    ax = pd.Series([float(eval(i)) for i in d.example_loss]).plot(ax=ax, legend=False, color=\"blue\")\n",
    "\n",
    "    ax.set_xlabel(\"Epochs\")\n",
    "    if show_ECE == 1:\n",
    "        ax.set_ylabel(\"ECE\")\n",
    "    elif show_ECE == 0:\n",
    "        ax.set_ylabel(\"Accuracy\")\n",
    "    else:\n",
    "        ax.set_ylabel(\"Example Loss\")\n",
    "    # set x axis to be integers\n",
    "    ax.xaxis.set_major_locator(MaxNLocator(integer=True))\n",
    "\n",
    "    # set y-axis values to 2 decimal places\n",
    "    ax.yaxis.set_major_formatter('{x:.2f}')\n",
    "    # adjust bottom to avoid cutoff\n",
    "    plt.subplots_adjust(bottom=0.15)\n",
    "\n",
    "    # adjust left to avoid cutoff\n",
    "    plt.subplots_adjust(left=0.15)\n",
    "\n",
    "    plt.legend([\"IS-loss\", \"Cross-Entropy\"])\n",
    "    if save:\n",
    "        if show_ECE == 1:\n",
    "            plt.savefig(save_path.replace(\".svg\", \"_ece.svg\"))\n",
    "        elif show_ECE == 0:\n",
    "            plt.savefig(save_path.replace(\".svg\", \"_acc.svg\"))\n",
    "        plt.savefig(save_path, format=\"svg\")\n",
    "    \n",
    "ece = 0\n",
    "lim = 100\n",
    "plot(\n",
    "    show_ECE=ece, # 1 for ECE, 0 for accuracy, 2 for loss_example\n",
    "    specific=\"e2ea5_00000\", # if you want to plot a specific experiment, put the name here else leave blank\n",
    "    experiment_name=\"a18\",\n",
    "    save=True,\n",
    "    lim=lim,\n",
    ")\n",
    "\n",
    "plot(\n",
    "    show_ECE=ece, # 1 for ECE, 0 for accuracy, 2 for loss_example\n",
    "    specific=\"e2ea5_00003\", # if you want to plot a specific experiment, put the name here else leave blank\n",
    "    experiment_name=\"a18\",\n",
    "    save=True,\n",
    "    lim=lim,\n",
    ")"
   ]
  },
  {
   "cell_type": "code",
   "execution_count": null,
   "metadata": {},
   "outputs": [],
   "source": [
    "experiment = \"a18\"\n",
    "from ray.tune import ExperimentAnalysis\n",
    "a = ExperimentAnalysis(\"./results/\" + experiment)\n",
    "dfs = a.trial_dataframes\n",
    "dfs = pd.DataFrame([dfs[list(dfs.keys())[i]].iloc[99] for i in range(4)])\n",
    "#dfs = a.dataframe()\n",
    "dfs = dfs.drop(columns=['timesteps_total','episodes_total', 'experiment_id','date',#'logdir','config/batch_size',\n",
    "'timestamp', 'pid', 'hostname', 'node_ip','time_since_restore', 'timesteps_since_restore', \n",
    "'warmup_time', 'example_loss', 'training_iteration','iterations_since_restore', 'done', \n",
    "'time_this_iter_s', 'mixed-score','freqs','time_total_s',#'config/criterion', \n",
    "])#'config/eps', 'config/lr', 'config/lr','iterations_since_restore','trial_id', 'config/model'\n",
    "dfs#dfs.sort_values(\"accuracy\", ascending=False)"
   ]
  },
  {
   "cell_type": "code",
   "execution_count": null,
   "metadata": {},
   "outputs": [],
   "source": [
    "from reliabilityplot import plot_reliability\n",
    "experiment = \"a18\"\n",
    "from ray.tune import ExperimentAnalysis\n",
    "dfs = ExperimentAnalysis(\"./results/\" + experiment).trial_dataframes\n",
    "freqs = dfs[list(dfs.keys())[0]].iloc[99][\"freqs\"]\n",
    "nan = float(\"nan\")\n",
    "freqs = eval(\"torch.\"+(freqs))\n",
    "plot_reliability(freqs)"
   ]
  },
  {
   "cell_type": "code",
   "execution_count": null,
   "metadata": {},
   "outputs": [],
   "source": [
    "import torch\n",
    "from reliabilityplot import plot_reliability\n",
    "from ray.tune import ExperimentAnalysis\n",
    "dfs = ExperimentAnalysis(\"./results/a12\").dataframe()\n",
    "nan = float(\"nan\")\n",
    "freqs = dfs[\"freqs\"][4]\n",
    "freqs = eval(\"torch.\"+(freqs))#freqs = eval(\"torch.\"+(dfs[\"freqs\"][dfs[dfs[\"trial_id\"]==\"01e8f_00003\"].index[0]]))\n",
    "plot_reliability(freqs)"
   ]
  },
  {
   "cell_type": "code",
   "execution_count": 97,
   "metadata": {},
   "outputs": [
    {
     "name": "stdout",
     "output_type": "stream",
     "text": [
      "Files already downloaded and verified\n"
     ]
    }
   ],
   "source": [
    "import library\n",
    "import tune\n",
    "\n",
    "import importlib\n",
    "importlib.reload(library)\n",
    "importlib.reload(tune)\n",
    "import torch\n",
    "import torch.nn as nn\n",
    "import torchvision.models as models\n",
    "\n",
    "device = \"cuda\"\n",
    "model = models.resnet18(num_classes=10).to(device)\n",
    "optim = torch.optim.Adam(model.parameters(), 0.01)\n",
    "train_loader, test_loader = library.load_data(250)\n",
    "for i in range(2):\n",
    "    l = tune.train(model, optim, library.itakura_saito_loss_v01,\n",
    "    train_loader, device)\n",
    "    #print(l, tune.test(model, test_loader, device, ece=True, n_bins=10)[:2])"
   ]
  },
  {
   "cell_type": "code",
   "execution_count": 108,
   "metadata": {},
   "outputs": [
    {
     "name": "stdout",
     "output_type": "stream",
     "text": [
      "11.053031113930047\n",
      "10.88397036679089\n",
      "5.176125489873812\n",
      "2.2806896639522165\n"
     ]
    }
   ],
   "source": [
    "#measuring the time it takes to execute IS-loss vs Cross-Entropy\n",
    "import timeit\n",
    "a = [(data, target) for batch_idx, (data, target) in enumerate(train_loader)][0]\n",
    "data = a[0].to(\"cuda\")\n",
    "target = a[1].to(\"cuda\")\n",
    "model = model.to(\"cuda\")\n",
    "model.train()\n",
    "out = model(data)\n",
    "ce = nn.CrossEntropyLoss()\n",
    "isloss = library.itakura_saito_loss_v01\n",
    "print(timeit.timeit(\"library.itakura_saito_loss_v01(out, target, 0.001)\", globals=globals(), number=100000))\n",
    "print(timeit.timeit(\"isloss(out, target, 0.001)\", globals=globals(), number=100000))\n",
    "print(timeit.timeit(\"nn.CrossEntropyLoss()(out, target)\", globals=globals(), number=100000))\n",
    "print(timeit.timeit(\"ce(out, target)\", globals=globals(), number=100000))"
   ]
  },
  {
   "cell_type": "code",
   "execution_count": null,
   "metadata": {},
   "outputs": [],
   "source": [
    "import importlib\n",
    "importlib.reload(library)\n",
    "from reliabilityplot import plot_reliability\n",
    "acc, ece, freqs = library.test(model, test_loader, device, ece=True)\n",
    "print(acc, ece)\n",
    "plot_reliability(freqs)"
   ]
  },
  {
   "cell_type": "code",
   "execution_count": null,
   "metadata": {},
   "outputs": [],
   "source": [
    "import library\n",
    "import tune\n",
    "\n",
    "import torch\n",
    "import torch.nn as nn\n",
    "import torchvision.models as models\n",
    "\n",
    "device = \"cuda\"\n",
    "model2 = models.resnet152(num_classes=10).to(device)\n",
    "train_loader, test_loader = library.load_data(250)\n",
    "for i in range(2):\n",
    "    tune.train(model2, torch.optim.Adam(model2.parameters(), 0.001), nn.CrossEntropyLoss(), train_loader, device)"
   ]
  },
  {
   "cell_type": "code",
   "execution_count": null,
   "metadata": {},
   "outputs": [],
   "source": [
    "import importlib\n",
    "importlib.reload(library)\n",
    "acc, ece, freqs = library.test(model2, test_loader, device, ece=True)\n",
    "print(acc, ece)\n",
    "plot_reliability(freqs)"
   ]
  },
  {
   "cell_type": "code",
   "execution_count": null,
   "metadata": {},
   "outputs": [],
   "source": [
    "from ray.tune import ExperimentAnalysis\n",
    "dfs = ExperimentAnalysis(\"./results/a16\")\n",
    "dfs.get_best_config(mode=\"max\", metric=\"accuracy\", scope=\"last-5-avg\")"
   ]
  }
 ],
 "metadata": {
  "kernelspec": {
   "display_name": "Python 3.10.4 ('py310')",
   "language": "python",
   "name": "python3"
  },
  "language_info": {
   "codemirror_mode": {
    "name": "ipython",
    "version": 3
   },
   "file_extension": ".py",
   "mimetype": "text/x-python",
   "name": "python",
   "nbconvert_exporter": "python",
   "pygments_lexer": "ipython3",
   "version": "3.10.4"
  },
  "orig_nbformat": 4,
  "vscode": {
   "interpreter": {
    "hash": "7284000700937c2b3b3c8b6dd236eebe2a26f5a7eee24e61707f37a5d4ef8e31"
   }
  }
 },
 "nbformat": 4,
 "nbformat_minor": 2
}
