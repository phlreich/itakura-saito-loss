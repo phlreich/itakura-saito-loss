{
 "cells": [
  {
   "cell_type": "code",
   "execution_count": 1,
   "metadata": {},
   "outputs": [
    {
     "name": "stderr",
     "output_type": "stream",
     "text": [
      "/home/preich/miniconda3/envs/py310/lib/python3.10/site-packages/tqdm/auto.py:22: TqdmWarning: IProgress not found. Please update jupyter and ipywidgets. See https://ipywidgets.readthedocs.io/en/stable/user_install.html\n",
      "  from .autonotebook import tqdm as notebook_tqdm\n"
     ]
    },
    {
     "name": "stdout",
     "output_type": "stream",
     "text": [
      "Files already downloaded and verified\n"
     ]
    }
   ],
   "source": [
    "import library\n",
    "import tune\n",
    "\n",
    "import torch\n",
    "import torch.nn as nn\n",
    "import torchvision.models as models\n",
    "\n",
    "device = \"cuda\"\n",
    "model = models.resnet34(num_classes=10).to(device)\n",
    "train_loader, test_loader = library.load_data(250)\n",
    "for i in range(20):\n",
    "    tune.train(model, torch.optim.Adam(model.parameters(), 0.0038), library.itakura_saito_loss_v03, train_loader, device)"
   ]
  },
  {
   "cell_type": "code",
   "execution_count": 2,
   "metadata": {},
   "outputs": [
    {
     "name": "stdout",
     "output_type": "stream",
     "text": [
      "0.1 0.0\n"
     ]
    },
    {
     "data": {
      "image/png": "[encoded data removed]",
      "text/plain": [
       "<Figure size 432x288 with 1 Axes>"
      ]
     },
     "metadata": {
      "needs_background": "light"
     },
     "output_type": "display_data"
    }
   ],
   "source": [
    "import importlib\n",
    "importlib.reload(library)\n",
    "from reliabilityplot import plot_reliability\n",
    "acc, ece, freqs = library.test(model, test_loader, device, ece=True)\n",
    "print(acc, ece)\n",
    "plot_reliability(freqs)"
   ]
  },
  {
   "cell_type": "code",
   "execution_count": 7,
   "metadata": {},
   "outputs": [],
   "source": [
    "import torch.nn as nn\n",
    "import torch.nn\n",
    "# Example of target with class indices\n",
    "loss = nn.CrossEntropyLoss()\n",
    "input = torch.randn(3, 5, requires_grad=True)\n",
    "target = torch.empty(3, dtype=torch.long).random_(5)\n",
    "output = loss(input, target)\n",
    "output.backward()\n",
    "# Example of target with class probabilities\n",
    "#input = torch.randn(3, 5, requires_grad=True)\n",
    "#target = torch.randn(3, 5).softmax(dim=1)\n",
    "#output = loss(input, target)\n",
    "#output.backward()"
   ]
  },
  {
   "cell_type": "code",
   "execution_count": 10,
   "metadata": {},
   "outputs": [
    {
     "data": {
      "text/plain": [
       "tensor(1.1577)"
      ]
     },
     "execution_count": 10,
     "metadata": {},
     "output_type": "execute_result"
    }
   ],
   "source": [
    "a = torch.tensor([[-1.4279,  0.3509,  0.7722, 0,  0.9543],\n",
    "         [ 3.0531,  1.4600,  1.2166, -1.5322, -0.4117],\n",
    "         [-1.7640, -0.4139,  0.7022, -0.2081,  0.9476]])\n",
    "b = torch.tensor([3, 0, 2])\n",
    "loss = nn.CrossEntropyLoss()\n",
    "loss(a, b)"
   ]
  }
 ],
 "metadata": {
  "kernelspec": {
   "display_name": "Python 3.10.4 ('py310')",
   "language": "python",
   "name": "python3"
  },
  "language_info": {
   "codemirror_mode": {
    "name": "ipython",
    "version": 3
   },
   "file_extension": ".py",
   "mimetype": "text/x-python",
   "name": "python",
   "nbconvert_exporter": "python",
   "pygments_lexer": "ipython3",
   "version": "3.10.4"
  },
  "orig_nbformat": 4,
  "vscode": {
   "interpreter": {
    "hash": "7284000700937c2b3b3c8b6dd236eebe2a26f5a7eee24e61707f37a5d4ef8e31"
   }
  }
 },
 "nbformat": 4,
 "nbformat_minor": 2
}
